{
 "cells": [
  {
   "cell_type": "markdown",
   "metadata": {},
   "source": [
    "## Activity 4 - LCM "
   ]
  },
  {
   "cell_type": "markdown",
   "metadata": {},
   "source": [
    "In this activity you will find the Least Common Multiple of two divisors. The Least Common Multiple of two divisors is the first number that both divisors divide. For instance, the Least Common Multiple of 4 and 6 is 12 because 12 is the first number that both 4 and 6 divide. \n",
    "\n",
    "Find the LCM of 24 and 36.\n",
    "\n",
    "Step 1. Set variables equal to 24 and 36.<br>\n",
    "Step 2. Create while loop based on True condition<br>\n",
    "Step 3: Initialize while loop with iterator<br>\n",
    "Step 4: Set up condition to break while loop when LCM is found<br>\n",
    "Step 5: Increment iterator at end of loop<br>\n",
    "Step 6: Print results\n",
    "\n",
    "The output should be 72."
   ]
  },
  {
   "cell_type": "code",
   "execution_count": 1,
   "metadata": {},
   "outputs": [
    {
     "name": "stdout",
     "output_type": "stream",
     "text": [
      "The Least Common Multiple of 24 and 36 is 72 .\n"
     ]
    }
   ],
   "source": [
    "# Find the Least Common Multiple of Two Divisors \n",
    "\n",
    "counting = True \n",
    "\n",
    "first_divisor = 24 \n",
    "\n",
    "second_divisor = 36 \n",
    "\n",
    "i = first_divisor\n",
    "\n",
    "while counting: \n",
    "\n",
    "    if i % first_divisor == 0 and i % second_divisor == 0: \n",
    "\n",
    "        print('The Least Common Multiple of', first_divisor, 'and', second_divisor, 'is', i, '.') \n",
    "\n",
    "        break \n",
    "\n",
    "    i += 1"
   ]
  }
 ],
 "metadata": {
  "kernelspec": {
   "display_name": "Python 3",
   "language": "python",
   "name": "python3"
  },
  "language_info": {
   "codemirror_mode": {
    "name": "ipython",
    "version": 3
   },
   "file_extension": ".py",
   "mimetype": "text/x-python",
   "name": "python",
   "nbconvert_exporter": "python",
   "pygments_lexer": "ipython3",
   "version": "3.6.8"
  }
 },
 "nbformat": 4,
 "nbformat_minor": 2
}
