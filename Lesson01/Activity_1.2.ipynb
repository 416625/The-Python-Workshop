{
 "cells": [
  {
   "cell_type": "markdown",
   "metadata": {},
   "source": [
    "## Activity 2 - Pythagorean Theorem"
   ]
  },
  {
   "cell_type": "markdown",
   "metadata": {},
   "source": [
    "In this activity you will determine the Pythagorean Distance between 3 points. You will utilize a docstring and comments to clarify the process.\n",
    "\n",
    "Step 1. Set x, y, and z equal to 2, 3, and 4. <br>\n",
    "Step 2: Determine the Pythagorean Distance between x, y, and z.<br>\n",
    "Step 3. Include comments to clarify each step, and a docstring at the beginning.\n",
    "\n",
    "The output should be 5.385164807134504"
   ]
  },
  {
   "cell_type": "code",
   "execution_count": 1,
   "metadata": {},
   "outputs": [
    {
     "data": {
      "text/plain": [
       "5.385164807134504"
      ]
     },
     "execution_count": 1,
     "metadata": {},
     "output_type": "execute_result"
    }
   ],
   "source": [
    "\"\"\" \n",
    "\n",
    "This document determines the Pythagorean Distance \n",
    "\n",
    "between three given points \n",
    "\n",
    "\"\"\" \n",
    "\n",
    " \n",
    "\n",
    "# Initialize variables \n",
    "\n",
    "x, y, z = 2, 3, 4     \n",
    "\n",
    " \n",
    "\n",
    "# Pythagorean Theorem in 3 dimensions \n",
    "\n",
    "w_squared = x**2 + y**2 + z**2     \n",
    "\n",
    " \n",
    "\n",
    "# The square root gives the distance \n",
    "\n",
    "w = w_squared ** 0.5    \n",
    "\n",
    " \n",
    "\n",
    "# Show the distance \n",
    "\n",
    "w"
   ]
  }
 ],
 "metadata": {
  "kernelspec": {
   "display_name": "Python 3",
   "language": "python",
   "name": "python3"
  },
  "language_info": {
   "codemirror_mode": {
    "name": "ipython",
    "version": 3
   },
   "file_extension": ".py",
   "mimetype": "text/x-python",
   "name": "python",
   "nbconvert_exporter": "python",
   "pygments_lexer": "ipython3",
   "version": "3.6.8"
  }
 },
 "nbformat": 4,
 "nbformat_minor": 2
}
