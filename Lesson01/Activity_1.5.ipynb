{
 "cells": [
  {
   "cell_type": "markdown",
   "metadata": {},
   "source": [
    "## Activity 5 - Conversational Bot"
   ]
  },
  {
   "cell_type": "markdown",
   "metadata": {},
   "source": [
    "We are going to build two conversational bots.\n",
    "\n",
    "FIRST BOT<br>\n",
    "Step 1. Ask the user at least two questions.<br>\n",
    "Step 2. Respond to each answer. Include the answer in the response. \n",
    "\n",
    "SECOND BOT<br>\n",
    "Step 1. Ask a queston that can be answered with a number scale, (ie, on a scale of 1-10…).<br> \n",
    "Step 2. Respond differently depending on the answer given.<br>\n",
    "Step 3. State a different question following each answer that can be answered with a number scale (ie, on a scale of 1-10…).<br>\n",
    "Step 4. Respond differently depending on the answer given.\n",
    "\n",
    "Note - The Second Bot should be written with nested conditionals. \n",
    "Hint - Casting may be important"
   ]
  },
  {
   "cell_type": "code",
   "execution_count": null,
   "metadata": {},
   "outputs": [],
   "source": [
    " # FIRST BOT\n",
    "\n",
    "print('What is your name?') \n",
    "\n",
    "name = input() \n",
    "\n",
    "print('Fascinating.', name, 'is my name too.') \n",
    "\n",
    "print('Have you thought about black holes today?')\n",
    "\n",
    "yes_no = input()\n",
    "\n",
    "print('I am so glad you said', yes_no, '.I was thinking the same thing.')\n",
    "\n",
    "print('We\\'re kindred spirits,', name, '. Talk later.')"
   ]
  },
  {
   "cell_type": "code",
   "execution_count": null,
   "metadata": {},
   "outputs": [],
   "source": [
    " # SECOND BOT \n",
    "\n",
    "print('How intelligent are you? 0 is very dumb. And 10 is a genuis') \n",
    "smarts = input()\n",
    "smarts = int(smarts)\n",
    "\n",
    "if smarts <= 3:\n",
    "    print('I don\\'t believe you.')\n",
    "    print('How bad of a day are you having? 0 is the worst, and 10 is the best.')\n",
    "    day = input()\n",
    "    day = int(day)\n",
    "    if day <= 5:\n",
    "        print('If I was human, I would give you a hug.')\n",
    "    else:\n",
    "        print('Maybe I should try your approach.')\n",
    "    \n",
    "    \n",
    "elif smarts <= 6:\n",
    "    print('I think you\\'re actually smarter.')\n",
    "    print('How much time do you spend online? 0 is none and 10 is 24 hours a day.')\n",
    "    hours = input()\n",
    "    hours = int(hours)\n",
    "    if hours <= 4:\n",
    "        print('That\\'s the problem.')\n",
    "    else:\n",
    "        print('And I thought it was only me.')\n",
    "    \n",
    "elif smarts <= 8:\n",
    "    print('Are you human by chance? Wait. Don\\'t answer that.')\n",
    "    print('How human are you? 0 is not at all and 10 is human all the way.')\n",
    "    human = input()\n",
    "    human = int(human)\n",
    "    if human <= 5:\n",
    "        print('I knew it.')\n",
    "    else:\n",
    "        print('I think this courtship is over.')\n",
    "    \n",
    "else:\n",
    "    print('I see... How many operating systems do you run?')\n",
    "    os = input()\n",
    "    os = int(os)\n",
    "    if os <= 2:\n",
    "        print('Good thing you\\'re taking this course.')\n",
    "    else:\n",
    "        print('What is this? A competition?')"
   ]
  }
 ],
 "metadata": {
  "kernelspec": {
   "display_name": "Python 3",
   "language": "python",
   "name": "python3"
  },
  "language_info": {
   "codemirror_mode": {
    "name": "ipython",
    "version": 3
   },
   "file_extension": ".py",
   "mimetype": "text/x-python",
   "name": "python",
   "nbconvert_exporter": "python",
   "pygments_lexer": "ipython3",
   "version": "3.6.8"
  }
 },
 "nbformat": 4,
 "nbformat_minor": 2
}
