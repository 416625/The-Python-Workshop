{
 "cells": [
  {
   "cell_type": "markdown",
   "metadata": {},
   "source": [
    "## Activity 3 - input() "
   ]
  },
  {
   "cell_type": "markdown",
   "metadata": {},
   "source": [
    "In this activity you will prompt a user for input, and respond with a comment that includes the input. \n",
    "\n",
    "Step 1. Ask a user to rate their day on a number scale. <br>\n",
    "Step 2: Respond with a comment that includes the number."
   ]
  },
  {
   "cell_type": "code",
   "execution_count": null,
   "metadata": {},
   "outputs": [],
   "source": [
    " # Choose a question to ask \n",
    "\n",
    "print('How would you rate your day on a scale of 1 to 10?') \n",
    "\n",
    " \n",
    "\n",
    "# Set a variable equal to input() \n",
    "\n",
    "day_rating = input() \n",
    "\n",
    " \n",
    "\n",
    "# Select an appropriate output. \n",
    "\n",
    "print('You feel like a ' + day_rating + ' today. Thanks for letting me know')"
   ]
  }
 ],
 "metadata": {
  "kernelspec": {
   "display_name": "Python 3",
   "language": "python",
   "name": "python3"
  },
  "language_info": {
   "codemirror_mode": {
    "name": "ipython",
    "version": 3
   },
   "file_extension": ".py",
   "mimetype": "text/x-python",
   "name": "python",
   "nbconvert_exporter": "python",
   "pygments_lexer": "ipython3",
   "version": "3.6.8"
  }
 },
 "nbformat": 4,
 "nbformat_minor": 2
}
