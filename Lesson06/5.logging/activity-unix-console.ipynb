{
 "cells": [
  {
   "cell_type": "code",
   "execution_count": 1,
   "metadata": {},
   "outputs": [
    {
     "name": "stdout",
     "output_type": "stream",
     "text": [
      "INFO\n"
     ]
    },
    {
     "name": "stderr",
     "output_type": "stream",
     "text": [
      "ERROR\n"
     ]
    }
   ],
   "source": [
    "import logging\n",
    "\n",
    "class MaxLevelFilter:\n",
    "    def __init__(self, max_level=None):\n",
    "        self.max_level = max_level\n",
    "\n",
    "    def filter(self, record):\n",
    "        return record.levelno <= self.max_level\n",
    "\n",
    "\n",
    "import sys\n",
    "logger = logging.getLogger()\n",
    "logger.setLevel(logging.DEBUG)\n",
    "stdout = logging.StreamHandler(sys.stdout)\n",
    "stdout.setLevel(\"DEBUG\")\n",
    "stdout.addFilter(MaxLevelFilter(logging.INFO))\n",
    "stderr = logging.StreamHandler(sys.stderr)\n",
    "stderr.setLevel(logging.WARNING)\n",
    "logger.addHandler(stdout)\n",
    "logger.addHandler(stderr)\n",
    "\n",
    "logger.info('INFO')\n",
    "logger.error('ERROR')"
   ]
  }
 ],
 "metadata": {
  "kernelspec": {
   "display_name": "Python 3",
   "language": "python",
   "name": "python3"
  },
  "language_info": {
   "codemirror_mode": {
    "name": "ipython",
    "version": 3
   },
   "file_extension": ".py",
   "mimetype": "text/x-python",
   "name": "python",
   "nbconvert_exporter": "python",
   "pygments_lexer": "ipython3",
   "version": "3.7.0+"
  }
 },
 "nbformat": 4,
 "nbformat_minor": 2
}
