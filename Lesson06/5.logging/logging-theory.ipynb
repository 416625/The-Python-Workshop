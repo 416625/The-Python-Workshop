{
 "cells": [
  {
   "cell_type": "code",
   "execution_count": 1,
   "metadata": {},
   "outputs": [],
   "source": [
    "import logging"
   ]
  },
  {
   "cell_type": "code",
   "execution_count": 8,
   "metadata": {},
   "outputs": [
    {
     "name": "stderr",
     "output_type": "stream",
     "text": [
      "ERROR:root:Something bad happened\n",
      "Traceback (most recent call last):\n",
      "  File \"<ipython-input-8-adcdec9cc60b>\", line 2, in <module>\n",
      "    int(\"nope\")\n",
      "ValueError: invalid literal for int() with base 10: 'nope'\n"
     ]
    }
   ],
   "source": [
    "try:\n",
    "    int(\"nope\")\n",
    "except Exception:\n",
    "    logging.error(\"Something bad happened\", exc_info=True)"
   ]
  },
  {
   "cell_type": "code",
   "execution_count": 9,
   "metadata": {},
   "outputs": [
    {
     "name": "stderr",
     "output_type": "stream",
     "text": [
      "ERROR:root:Something bad happened\n",
      "Traceback (most recent call last):\n",
      "  File \"<ipython-input-9-39a74a45c693>\", line 2, in <module>\n",
      "    int(\"nope\")\n",
      "ValueError: invalid literal for int() with base 10: 'nope'\n"
     ]
    }
   ],
   "source": [
    "try:\n",
    "    int(\"nope\")\n",
    "except Exception:\n",
    "    logging.exception(\"Something bad happened\")"
   ]
  },
  {
   "cell_type": "code",
   "execution_count": null,
   "metadata": {},
   "outputs": [],
   "source": []
  },
  {
   "cell_type": "code",
   "execution_count": 11,
   "metadata": {},
   "outputs": [],
   "source": [
    "variable = 1\n",
    "# Prefer\n",
    "logging.info(\"string template %s\", variable)\n",
    "# to\n",
    "logging.info(\"string template {}\".format(variable))"
   ]
  },
  {
   "cell_type": "code",
   "execution_count": 18,
   "metadata": {},
   "outputs": [
    {
     "name": "stderr",
     "output_type": "stream",
     "text": [
      "ERROR:root:Something bad happened\n",
      "Traceback (most recent call last):\n",
      "  File \"<ipython-input-18-997c7c2a8b8d>\", line 5, in <module>\n",
      "    d[\"missing_key\"] += 1\n",
      "KeyError: 'missing_key'\n",
      "ERROR:root:Something bad happened: 'missing_key'\n"
     ]
    }
   ],
   "source": [
    "d = dict()\n",
    "\n",
    "# Prefer\n",
    "try:\n",
    "    d[\"missing_key\"] += 1\n",
    "except Exception:\n",
    "    logging.error(\"Something bad happened\", exc_info=True)\n",
    "    \n",
    "# to\n",
    "try:\n",
    "    d[\"missing_key\"] += 1\n",
    "except Exception as e:\n",
    "    logging.error(\"Something bad happened: %s\", e)"
   ]
  },
  {
   "cell_type": "code",
   "execution_count": null,
   "metadata": {},
   "outputs": [],
   "source": []
  }
 ],
 "metadata": {
  "kernelspec": {
   "display_name": "Python 3",
   "language": "python",
   "name": "python3"
  },
  "language_info": {
   "codemirror_mode": {
    "name": "ipython",
    "version": 3
   },
   "file_extension": ".py",
   "mimetype": "text/x-python",
   "name": "python",
   "nbconvert_exporter": "python",
   "pygments_lexer": "ipython3",
   "version": "3.7.0+"
  }
 },
 "nbformat": 4,
 "nbformat_minor": 2
}
