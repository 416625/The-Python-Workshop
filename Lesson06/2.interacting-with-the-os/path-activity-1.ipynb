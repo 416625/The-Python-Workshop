{
 "cells": [
  {
   "cell_type": "code",
   "execution_count": 1,
   "metadata": {},
   "outputs": [
    {
     "name": "stdout",
     "output_type": "stream",
     "text": [
      "[WindowsPath('C:/Users/CorcheroMario/.docker'), WindowsPath('C:/Users/CorcheroMario/.hyper.js'), WindowsPath('C:/Users/CorcheroMario/.hyper_plugins'), WindowsPath('C:/Users/CorcheroMario/.ipython'), WindowsPath('C:/Users/CorcheroMario/.PyCharm2018.1'), WindowsPath('C:/Users/CorcheroMario/.ssh'), WindowsPath('C:/Users/CorcheroMario/.vscode')]\n"
     ]
    }
   ],
   "source": [
    "import pathlib\n",
    "\n",
    "p = pathlib.Path.home()\n",
    "print(list(p.glob(\".*\")))"
   ]
  },
  {
   "cell_type": "code",
   "execution_count": null,
   "metadata": {},
   "outputs": [],
   "source": []
  }
 ],
 "metadata": {
  "kernelspec": {
   "display_name": "Python 3",
   "language": "python",
   "name": "python3"
  },
  "language_info": {
   "codemirror_mode": {
    "name": "ipython",
    "version": 3
   },
   "file_extension": ".py",
   "mimetype": "text/x-python",
   "name": "python",
   "nbconvert_exporter": "python",
   "pygments_lexer": "ipython3",
   "version": "3.7.0"
  }
 },
 "nbformat": 4,
 "nbformat_minor": 2
}
