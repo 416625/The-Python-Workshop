{
 "cells": [
  {
   "cell_type": "code",
   "execution_count": 10,
   "metadata": {},
   "outputs": [],
   "source": [
    "import collections\n",
    "\n",
    "_defaults = {\n",
    "    \"apetisers\": \"Hummus\",\n",
    "    \"main\": \"Pizza\",\n",
    "    \"desert\": \"Chocolate cake\",\n",
    "    \"drink\": \"Water\",\n",
    "}\n",
    "\n",
    "def prepare_menu(customizations):\n",
    "    return collections.ChainMap(customizations, _defaults)\n",
    "\n",
    "def print_menu(menu):\n",
    "    for key, value in menu.items():\n",
    "        print(f\"As {key}: {value}.\")"
   ]
  },
  {
   "cell_type": "code",
   "execution_count": 12,
   "metadata": {},
   "outputs": [
    {
     "name": "stdout",
     "output_type": "stream",
     "text": [
      "As apetisers: Hummus.\n",
      "As main: Pizza.\n",
      "As desert: Chocolate cake.\n",
      "As drink: Water.\n"
     ]
    }
   ],
   "source": [
    "menu1 = prepare_menu({})\n",
    "print_menu(menu1)"
   ]
  },
  {
   "cell_type": "code",
   "execution_count": 14,
   "metadata": {},
   "outputs": [
    {
     "name": "stdout",
     "output_type": "stream",
     "text": [
      "As apetisers: Hummus.\n",
      "As main: Pizza.\n",
      "As desert: Chocolate cake.\n",
      "As drink: Red Wine.\n"
     ]
    }
   ],
   "source": [
    "menu2 = prepare_menu({\"drink\": \"Red Wine\"})\n",
    "print_menu(menu2)"
   ]
  },
  {
   "cell_type": "code",
   "execution_count": 15,
   "metadata": {},
   "outputs": [
    {
     "name": "stdout",
     "output_type": "stream",
     "text": [
      "As apetisers: Hummus.\n",
      "As main: Pizza.\n",
      "As desert: Chocolate cake.\n",
      "As drink: Water.\n",
      "As side: French fries.\n"
     ]
    }
   ],
   "source": [
    "menu3 = prepare_menu({\"side\": \"French fries\"})\n",
    "print_menu(menu3)"
   ]
  },
  {
   "cell_type": "code",
   "execution_count": 18,
   "metadata": {},
   "outputs": [
    {
     "name": "stdout",
     "output_type": "stream",
     "text": [
      "As apetisers: Hummus.\n",
      "As main: Pasta.\n",
      "As desert: Chocolate cake.\n",
      "As drink: Water.\n",
      "As side: French fries.\n"
     ]
    }
   ],
   "source": [
    "_defaults[\"main\"] = \"Pasta\"\n",
    "print_menu(menu3)"
   ]
  }
 ],
 "metadata": {
  "kernelspec": {
   "display_name": "Python 3",
   "language": "python",
   "name": "python3"
  },
  "language_info": {
   "codemirror_mode": {
    "name": "ipython",
    "version": 3
   },
   "file_extension": ".py",
   "mimetype": "text/x-python",
   "name": "python",
   "nbconvert_exporter": "python",
   "pygments_lexer": "ipython3",
   "version": "3.7.0+"
  }
 },
 "nbformat": 4,
 "nbformat_minor": 2
}
