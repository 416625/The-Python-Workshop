{
 "cells": [
  {
   "cell_type": "code",
   "execution_count": 2,
   "metadata": {},
   "outputs": [],
   "source": [
    "# Importing the required libraries / packages\n",
    "import numpy as np # Numeric python\n",
    "\n",
    "import math # Very useful library for mathematical operations"
   ]
  },
  {
   "cell_type": "code",
   "execution_count": 14,
   "metadata": {},
   "outputs": [
    {
     "data": {
      "text/plain": [
       "4"
      ]
     },
     "execution_count": 14,
     "metadata": {},
     "output_type": "execute_result"
    }
   ],
   "source": [
    "def add_up(x, y):\n",
    "    return x + y\n",
    "add_up(1, 3)"
   ]
  },
  {
   "cell_type": "code",
   "execution_count": 19,
   "metadata": {},
   "outputs": [
    {
     "name": "stdout",
     "output_type": "stream",
     "text": [
      "6\n",
      "300\n"
     ]
    }
   ],
   "source": [
    "def list_product(my_list) : \n",
    "    result = 1\n",
    "    for number in my_list: \n",
    "         result = result * number\n",
    "    return result\n",
    "\n",
    "print(list_product([2, 3]))\n",
    "print(list_product([2, 10, 15]))"
   ]
  },
  {
   "cell_type": "code",
   "execution_count": 20,
   "metadata": {},
   "outputs": [
    {
     "data": {
      "text/plain": [
       "4"
      ]
     },
     "execution_count": 20,
     "metadata": {},
     "output_type": "execute_result"
    }
   ],
   "source": [
    "def add_up(x, y):\n",
    "    return x + y\n",
    "add_up(1, 3)"
   ]
  },
  {
   "cell_type": "code",
   "execution_count": 24,
   "metadata": {},
   "outputs": [
    {
     "name": "stdout",
     "output_type": "stream",
     "text": [
      "2019-04-18 09:26:15.154811\n"
     ]
    }
   ],
   "source": [
    "from datetime import datetime\n",
    "\n",
    "def get_the_time():\n",
    "    return datetime.now()\n",
    "\n",
    "print(get_the_time())"
   ]
  },
  {
   "cell_type": "code",
   "execution_count": 27,
   "metadata": {},
   "outputs": [],
   "source": [
    "def convert_usd_to_aud(amount, rate=0.75):\n",
    "    return amount / rate\n",
    "\n",
    "def convert_and_sum_list(usd_list, rate=0.75):\n",
    "    total = 0\n",
    "    for amount in usd_list:\n",
    "        total += convert_usd_to_aud(amount, rate=rate)\n",
    "    return total\n",
    "\n",
    "def convert_and_sum_list_kwargs(usd_list, **kwargs):\n",
    "    total = 0\n",
    "    for amount in usd_list:\n",
    "        total += convert_usd_to_aud(amount, **kwargs)\n",
    "    return total\n",
    "\n",
    "print(convert_and_sum_list([1, 3]))"
   ]
  },
  {
   "cell_type": "code",
   "execution_count": 28,
   "metadata": {},
   "outputs": [
    {
     "name": "stdout",
     "output_type": "stream",
     "text": [
      "5.333333333333333\n"
     ]
    }
   ],
   "source": []
  },
  {
   "cell_type": "code",
   "execution_count": 26,
   "metadata": {},
   "outputs": [
    {
     "data": {
      "text/plain": [
       "2"
      ]
     },
     "execution_count": 26,
     "metadata": {},
     "output_type": "execute_result"
    }
   ],
   "source": [
    "exploring_kwargs(1, multiplier=2)"
   ]
  }
 ],
 "metadata": {
  "kernelspec": {
   "display_name": "Python 3",
   "language": "python",
   "name": "python3"
  },
  "language_info": {
   "codemirror_mode": {
    "name": "ipython",
    "version": 3
   },
   "file_extension": ".py",
   "mimetype": "text/x-python",
   "name": "python",
   "nbconvert_exporter": "python",
   "pygments_lexer": "ipython3",
   "version": "3.5.2"
  }
 },
 "nbformat": 4,
 "nbformat_minor": 2
}
