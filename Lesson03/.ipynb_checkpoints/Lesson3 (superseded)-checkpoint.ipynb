{
 "cells": [
  {
   "cell_type": "code",
   "execution_count": 1,
   "metadata": {},
   "outputs": [],
   "source": [
    "# Importing the required libraries / packages\n",
    "import numpy as np # Numeric python\n",
    "\n",
    "import math # Very useful library for mathematical operations"
   ]
  },
  {
   "cell_type": "code",
   "execution_count": 2,
   "metadata": {},
   "outputs": [
    {
     "name": "stdout",
     "output_type": "stream",
     "text": [
      "Addition of two given numbers is: 5\n"
     ]
    }
   ],
   "source": [
    "# Your variables\n",
    "number1 = 2\n",
    "number2 = 3\n",
    "\n",
    "# Adding two numbers\n",
    "addition = number1 + number2\n",
    "\n",
    "print('Addition of two given numbers is: {}'.format(addition))"
   ]
  },
  {
   "cell_type": "code",
   "execution_count": 3,
   "metadata": {},
   "outputs": [
    {
     "name": "stdout",
     "output_type": "stream",
     "text": [
      "Multiplication of two given numbers is: 6\n",
      "Float division of two given numbers is: 0.6666666666666666\n",
      "Integer division of two given numbers is: 0\n"
     ]
    }
   ],
   "source": [
    "# Multiplying two numbers\n",
    "multiplication = number1 * number2\n",
    "\n",
    "# Performing float division on two numbers\n",
    "float_division = number1 / number2\n",
    "\n",
    "# Performing integer division on two numbers\n",
    "int_division = number1 // number2\n",
    "\n",
    "# Print statements\n",
    "print('Multiplication of two given numbers is: {}'.format(multiplication))\n",
    "\n",
    "print('Float division of two given numbers is: {}'.format(float_division))\n",
    "\n",
    "print('Integer division of two given numbers is: {}'.format(int_division))"
   ]
  },
  {
   "cell_type": "code",
   "execution_count": 4,
   "metadata": {},
   "outputs": [
    {
     "name": "stdout",
     "output_type": "stream",
     "text": [
      "Logarithm of first number is: 0.6931471805599453\n",
      "Logarithm of second number is: 1.0986122886681098\n",
      "Percent of number1 with respect to number2 is: 66.66666666666667\n",
      "Modular of number1 with respect to number2 is: 2\n",
      "Average of the given list is: 5.5\n"
     ]
    }
   ],
   "source": [
    "# Logarithm\n",
    "log_number1 = math.log(number1)\n",
    "log_number2 = math.log(number2)\n",
    "\n",
    "# Percentage\n",
    "percentage = (number1*100/number2)\n",
    "\n",
    "# Modular\n",
    "modular = number1%number2\n",
    "\n",
    "# Average of a list of numbers\n",
    "numbers_list = [1,2,3,4,5,6,7,8,9,10]\n",
    "average_list = np.mean(numbers_list)\n",
    "\n",
    "# Print statements\n",
    "print('Logarithm of first number is: {}'.format(log_number1))\n",
    "print('Logarithm of second number is: {}'.format(log_number2))\n",
    "\n",
    "print('Percent of number1 with respect to number2 is: {}'.format(percentage))\n",
    "\n",
    "print('Modular of number1 with respect to number2 is: {}'.format(modular))\n",
    "\n",
    "print('Average of the given list is: {}'.format(average_list))"
   ]
  },
  {
   "cell_type": "code",
   "execution_count": 5,
   "metadata": {},
   "outputs": [],
   "source": [
    "# Default argument\n",
    "def testFunction1(number1, number2=2):\n",
    "    return"
   ]
  },
  {
   "cell_type": "code",
   "execution_count": 6,
   "metadata": {},
   "outputs": [],
   "source": [
    "def testFunction3(number1, number2):\n",
    "    return"
   ]
  },
  {
   "cell_type": "code",
   "execution_count": 7,
   "metadata": {},
   "outputs": [],
   "source": [
    "def testFunction4(*varargs):\n",
    "    return"
   ]
  },
  {
   "cell_type": "code",
   "execution_count": 8,
   "metadata": {},
   "outputs": [],
   "source": [
    "def insertionSortFunction(listOfNumbers):\n",
    "    \n",
    "    # Looping over the list\n",
    "    for i in range(1, len(listOfNumbers)):\n",
    "        \n",
    "        # Storing the current element in a variable for further comparison\n",
    "        currentElement = listOfNumbers[i]\n",
    "        \n",
    "        # Storing the current index if exchange of elements is needed\n",
    "        currentPosition = i\n",
    "        \n",
    "        # Comparing current element to all unsorted elements\n",
    "        while(currentPosition>0 and \n",
    "              listOfNumbers[currentPosition-1]>currentElement):\n",
    "            \n",
    "            # Exchanging the elements in the list\n",
    "            listOfNumbers[currentPosition]=listOfNumbers[currentPosition-1]\n",
    "            currentPosition=currentPosition-1\n",
    "        \n",
    "        # Update the list accordingly\n",
    "        listOfNumbers[currentPosition]=currentElement\n",
    "        \n",
    "    # In this case, its not necessary to return as we are changing elements in the same list\n",
    "    return listOfNumbers"
   ]
  },
  {
   "cell_type": "code",
   "execution_count": 9,
   "metadata": {},
   "outputs": [
    {
     "name": "stdout",
     "output_type": "stream",
     "text": [
      "Sorting of the provided list: [1, 2, 2, 4, 5, 6, 6, 8]\n"
     ]
    }
   ],
   "source": [
    "listNumbers = [2,5,1,6,8,2,4,6]\n",
    "\n",
    "print('Sorting of the provided list: {}'.format(insertionSortFunction(listNumbers)))"
   ]
  },
  {
   "cell_type": "code",
   "execution_count": 10,
   "metadata": {},
   "outputs": [
    {
     "name": "stdout",
     "output_type": "stream",
     "text": [
      "30\n"
     ]
    }
   ],
   "source": [
    "# Lambda function for doubling the value\n",
    "double = lambda x: x*2\n",
    "\n",
    "print(double(15))"
   ]
  },
  {
   "cell_type": "code",
   "execution_count": 11,
   "metadata": {},
   "outputs": [],
   "source": [
    "# Binary search\n",
    "\n",
    "# Recursive function which takes, the list, left index considered, right index considered and element to be searched\n",
    "def binarySearchHelperFunction(listForRecursion, leftIndex, rightIndex, elementToBeSearched):\n",
    "    \n",
    "    # Base case\n",
    "    if rightIndex >= leftIndex:\n",
    "        \n",
    "        # Get middle index\n",
    "        middleIndex = leftIndex +(rightIndex - leftIndex)//2\n",
    "        \n",
    "        # If middle element is element to be searched\n",
    "        if listForRecursion[middleIndex] == elementToBeSearched:\n",
    "            return middleIndex\n",
    "        \n",
    "        # If element is bigger than middle, then recursively call left -> middle-1\n",
    "        elif listForRecursion[middleIndex] > elementToBeSearched:\n",
    "            return binarySearchHelperFunction(listForRecursion, leftIndex, middleIndex-1, elementToBeSearched)\n",
    "        \n",
    "        # If element is smalled than middle, then recursively call middle+1 -> right\n",
    "        else:\n",
    "            return binarySearchHelperFunction(listForRecursion, middleIndex+1, rightIndex, elementToBeSearched)\n",
    "    \n",
    "    # If the element is not found, then return -1\n",
    "    else:\n",
    "        return -1\n",
    "\n",
    "# Main function which takes only list and element to be searched\n",
    "def binarySearch(listConsidered, element):\n",
    "    return binarySearchHelperFunction(listConsidered, 0, len(listConsidered), element)"
   ]
  },
  {
   "cell_type": "code",
   "execution_count": 12,
   "metadata": {},
   "outputs": [
    {
     "name": "stdout",
     "output_type": "stream",
     "text": [
      "4\n"
     ]
    }
   ],
   "source": [
    "print(binarySearch([1,2,3,4,5,6,7,8,9], 5))"
   ]
  },
  {
   "cell_type": "code",
   "execution_count": 13,
   "metadata": {},
   "outputs": [],
   "source": [
    "def add(a, b):\n",
    "    return a+b\n",
    "\n",
    "def multiply(a, b):\n",
    "    return a*b\n",
    "\n",
    "def floatDivision(a, b):\n",
    "    return a/b\n",
    "\n",
    "def integerDivision(a, b):\n",
    "    return a//b\n",
    "\n",
    "logarithm = lambda x: math.log(x)\n",
    "\n",
    "percentage = lambda x, y: (x*100)/y\n",
    "\n",
    "mod = lambda x, y: x % y\n",
    "\n",
    "def findMean(listOfNumbers):\n",
    "    return np.mean(listOfNumbers)"
   ]
  },
  {
   "cell_type": "code",
   "execution_count": 14,
   "metadata": {},
   "outputs": [
    {
     "name": "stdout",
     "output_type": "stream",
     "text": [
      "Addition of two given numbers is: 5\n",
      "Multiplication of two given numbers is: 6\n",
      "Float division of two given numbers is: 0.6666666666666666\n",
      "Integer division of two given numbers is: 0\n",
      "Logarithm of first number is: 0.6931471805599453\n",
      "Logarithm of second number is: 1.0986122886681098\n",
      "Percent of number1 with respect to number2 is: 66.66666666666667\n",
      "Modular of number1 with respect to number2 is: 2\n",
      "Average of the given list is: 5.5\n"
     ]
    }
   ],
   "source": [
    "# Your variables\n",
    "number1 = 2\n",
    "number2 = 3\n",
    "\n",
    "# Adding two numbers\n",
    "addition = add(number1, number2)\n",
    "\n",
    "# Multiplying two numbers\n",
    "multiplication = multiply(number1, number2)\n",
    "\n",
    "# Performing float division on two numbers\n",
    "float_division = floatDivision(number1,number2)\n",
    "\n",
    "# Performing integer division on two numbers\n",
    "int_division = integerDivision(number1,number2)\n",
    "\n",
    "# Logarithm\n",
    "log_number1 = logarithm(number1)\n",
    "log_number2 = logarithm(number2)\n",
    "\n",
    "# Percentage\n",
    "percentage = percentage(number1, number2)\n",
    "\n",
    "# Modular\n",
    "modular = mod(number1, number2)\n",
    "\n",
    "# Average of a list of numbers\n",
    "numbers_list = [1,2,3,4,5,6,7,8,9,10]\n",
    "average_list = findMean(numbers_list)\n",
    "\n",
    "# Print statements\n",
    "print('Addition of two given numbers is: {}'.format(addition))\n",
    "\n",
    "print('Multiplication of two given numbers is: {}'.format(multiplication))\n",
    "\n",
    "print('Float division of two given numbers is: {}'.format(float_division))\n",
    "\n",
    "print('Integer division of two given numbers is: {}'.format(int_division))\n",
    "\n",
    "print('Logarithm of first number is: {}'.format(log_number1))\n",
    "\n",
    "print('Logarithm of second number is: {}'.format(log_number2))\n",
    "\n",
    "print('Percent of number1 with respect to number2 is: {}'.format(percentage))\n",
    "\n",
    "print('Modular of number1 with respect to number2 is: {}'.format(modular))\n",
    "\n",
    "print('Average of the given list is: {}'.format(average_list))"
   ]
  },
  {
   "cell_type": "code",
   "execution_count": null,
   "metadata": {},
   "outputs": [],
   "source": []
  },
  {
   "cell_type": "code",
   "execution_count": 15,
   "metadata": {},
   "outputs": [],
   "source": [
    "def factorialOfNumber(number):\n",
    "    \n",
    "    # Base condition\n",
    "    # In case we com across number as 0 or 1, return 1\n",
    "    # Since 1! = 1 and 0! = 1\n",
    "    if number == 0 or number == 1:\n",
    "        \n",
    "        return 1\n",
    "    \n",
    "    else:\n",
    "        \n",
    "        # Recursively call the same function within itself\n",
    "        # But make sure you are reducing the number\n",
    "        return number * factorialOfNumber(number-1)"
   ]
  },
  {
   "cell_type": "code",
   "execution_count": 16,
   "metadata": {},
   "outputs": [
    {
     "name": "stdout",
     "output_type": "stream",
     "text": [
      "The factorial for given number is: 3628800\n"
     ]
    }
   ],
   "source": [
    "print('The factorial for given number is: {}'.format(factorialOfNumber(10)))"
   ]
  },
  {
   "cell_type": "code",
   "execution_count": 17,
   "metadata": {},
   "outputs": [],
   "source": [
    "def recursiveFibonacciSeries(index):\n",
    "    \n",
    "    # Take care of edge cases, very important in software development\n",
    "    if index < 0:\n",
    "        \n",
    "        # Print the appropriate message\n",
    "        print('Index cannot be negative')\n",
    "        \n",
    "        # Return nothing\n",
    "        return\n",
    "    \n",
    "    # Base condition\n",
    "    # In this case, if index is 0 or 1 it will return either 0 or 1\n",
    "    if index == 0:\n",
    "        return 0\n",
    "    elif index == 1:\n",
    "        return 1\n",
    "    else:\n",
    "        \n",
    "        # Recursively call the function itself, but twice\n",
    "        return recursiveFibonacciSeries(index-1) + recursiveFibonacciSeries(index-2)"
   ]
  },
  {
   "cell_type": "code",
   "execution_count": 18,
   "metadata": {},
   "outputs": [
    {
     "name": "stdout",
     "output_type": "stream",
     "text": [
      "The number on 15th index in Fibonacci series is: 610\n"
     ]
    }
   ],
   "source": [
    "indexFibonacciSeries = 15\n",
    "print('The number on {}th index in Fibonacci series is: {}'.format(indexFibonacciSeries, \n",
    "                                                                   recursiveFibonacciSeries(indexFibonacciSeries)))"
   ]
  },
  {
   "cell_type": "code",
   "execution_count": 19,
   "metadata": {},
   "outputs": [],
   "source": [
    "# Global dictionary to store calculated fibonacci values\n",
    "dynamicDict = {1:0, 2:1}\n",
    "\n",
    "\n",
    "def dynamicFibonacciSeries(index):\n",
    "    \n",
    "    # Same as before, base condition\n",
    "    # If index is 0 or 1, return 0 or 1 respectively\n",
    "    if index <= 1:\n",
    "        \n",
    "        return index\n",
    "    \n",
    "    # Make sure to check if there is already a calculated value in dynamic dictionary\n",
    "    if index in dynamicDict:\n",
    "        \n",
    "        # If yes, return the value at that index\n",
    "        return dynamicDict[index]\n",
    "    \n",
    "    else:\n",
    "        \n",
    "        # Store the calculated value in dynamic dictionary\n",
    "        dynamicDict[index] = dynamicFibonacciSeries(index-1) + dynamicFibonacciSeries(index-2)\n",
    "        \n",
    "        # Return the value at that particulae index from dynamic dictionary\n",
    "        return dynamicDict[index]"
   ]
  },
  {
   "cell_type": "code",
   "execution_count": 20,
   "metadata": {},
   "outputs": [
    {
     "name": "stdout",
     "output_type": "stream",
     "text": [
      "The number on 14th index in Fibonacci series using dynamic programming is: 610\n"
     ]
    }
   ],
   "source": [
    "indexFibonacciSeries = 14\n",
    "print('The number on {}th index in Fibonacci series using dynamic programming is: {}'.format(indexFibonacciSeries,\n",
    "                                                                                             dynamicFibonacciSeries(15)))"
   ]
  },
  {
   "cell_type": "code",
   "execution_count": null,
   "metadata": {},
   "outputs": [],
   "source": []
  },
  {
   "cell_type": "code",
   "execution_count": null,
   "metadata": {},
   "outputs": [],
   "source": []
  },
  {
   "cell_type": "code",
   "execution_count": null,
   "metadata": {},
   "outputs": [],
   "source": []
  }
 ],
 "metadata": {
  "kernelspec": {
   "display_name": "Python 3",
   "language": "python",
   "name": "python3"
  },
  "language_info": {
   "codemirror_mode": {
    "name": "ipython",
    "version": 3
   },
   "file_extension": ".py",
   "mimetype": "text/x-python",
   "name": "python",
   "nbconvert_exporter": "python",
   "pygments_lexer": "ipython3",
   "version": "3.5.2"
  }
 },
 "nbformat": 4,
 "nbformat_minor": 2
}
