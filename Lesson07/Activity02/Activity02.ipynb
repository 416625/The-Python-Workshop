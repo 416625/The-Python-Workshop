{
 "cells": [
  {
   "cell_type": "code",
   "execution_count": 1,
   "metadata": {
    "colab": {
     "base_uri": "https://localhost:8080/",
     "height": 35
    },
    "colab_type": "code",
    "id": "W3RIld6Ch8Ms",
    "outputId": "81bfaaf7-bc38-4d25-9e5d-8fca0d58aec7"
   },
   "outputs": [
    {
     "name": "stdout",
     "output_type": "stream",
     "text": [
      "{'Vivian Smith-Smythe-Smith': 100, 'Simon Zinc-Trumpet-Harris': 100, 'Nigel Incubator-Jones': 100, 'Gervaise Brook-Hamster': 100}\n"
     ]
    }
   ],
   "source": [
    "# This is the wrong way to associate to lists in a dictionary\n",
    "scores = { twit:score for twit in [\"Vivian Smith-Smythe-Smith\", \"Simon Zinc-Trumpet-Harris\", \"Nigel Incubator-Jones\", \"Gervaise Brook-Hamster\"] for score in [20, 130, 80, 100] }\n",
    "print(scores)"
   ]
  },
  {
   "cell_type": "code",
   "execution_count": 2,
   "metadata": {
    "colab": {
     "base_uri": "https://localhost:8080/",
     "height": 109
    },
    "colab_type": "code",
    "id": "lnS6bGATiDlt",
    "outputId": "cabad1fb-f65e-4485-a07c-9e33c24fab9f"
   },
   "outputs": [
    {
     "name": "stdout",
     "output_type": "stream",
     "text": [
      "{'Vivian Smith-Smythe-Smith': 20, 'Simon Zinc-Trumpet-Harris': 130, 'Nigel Incubator-Jones': 80, 'Gervaise Brook-Hamster': 100}\n"
     ]
    },
    {
     "data": {
      "text/plain": [
       "{'Gervaise Brook-Hamster': 100,\n",
       " 'Nigel Incubator-Jones': 80,\n",
       " 'Simon Zinc-Trumpet-Harris': 130,\n",
       " 'Vivian Smith-Smythe-Smith': 20}"
      ]
     },
     "execution_count": 2,
     "metadata": {
      "tags": []
     },
     "output_type": "execute_result"
    }
   ],
   "source": [
    "# You need to build two lists and iterate them in lockstep\n",
    "twits = [\"Vivian Smith-Smythe-Smith\", \"Simon Zinc-Trumpet-Harris\", \"Nigel Incubator-Jones\", \"Gervaise Brook-Hamster\"]\n",
    "points = [20, 130, 80, 100]\n",
    "scores = { twits[i]:points[i] for i in range(4) }\n",
    "print(scores)\n",
    "{'Vivian Smith-Smythe-Smith': 20, 'Simon Zinc-Trumpet-Harris': 130, 'Nigel Incubator-Jones': 80, 'Gervaise Brook-Hamster': 100}"
   ]
  }
 ],
 "metadata": {
  "colab": {
   "name": "Activity02.ipynb",
   "provenance": [],
   "version": "0.3.2"
  },
  "kernelspec": {
   "display_name": "Python 3",
   "language": "python",
   "name": "python3"
  },
  "language_info": {
   "codemirror_mode": {
    "name": "ipython",
    "version": 3
   },
   "file_extension": ".py",
   "mimetype": "text/x-python",
   "name": "python",
   "nbconvert_exporter": "python",
   "pygments_lexer": "ipython3",
   "version": "3.7.1"
  }
 },
 "nbformat": 4,
 "nbformat_minor": 1
}
