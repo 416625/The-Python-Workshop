{
  "nbformat": 4,
  "nbformat_minor": 0,
  "metadata": {
    "colab": {
      "name": "Activity02.ipynb",
      "version": "0.3.2",
      "provenance": []
    },
    "kernelspec": {
      "name": "python3",
      "display_name": "Python 3"
    }
  },
  "cells": [
    {
      "cell_type": "code",
      "metadata": {
        "id": "W3RIld6Ch8Ms",
        "colab_type": "code",
        "colab": {
          "base_uri": "https://localhost:8080/",
          "height": 35
        },
        "outputId": "81bfaaf7-bc38-4d25-9e5d-8fca0d58aec7"
      },
      "source": [
        "# This is the wrong way to associate to lists in a dictionary\n",
        ">>> scores = { twit:score for twit in [\"Vivian Smith-Smythe-Smith\", \"Simon Zinc-Trumpet-Harris\", \"Nigel Incubator-Jones\", \"Gervaise Brook-Hamster\"] for score in [20, 130, 80, 100] }\n",
        "print(scores)"
      ],
      "execution_count": 1,
      "outputs": [
        {
          "output_type": "stream",
          "text": [
            "{'Vivian Smith-Smythe-Smith': 100, 'Simon Zinc-Trumpet-Harris': 100, 'Nigel Incubator-Jones': 100, 'Gervaise Brook-Hamster': 100}\n"
          ],
          "name": "stdout"
        }
      ]
    },
    {
      "cell_type": "code",
      "metadata": {
        "id": "lnS6bGATiDlt",
        "colab_type": "code",
        "colab": {
          "base_uri": "https://localhost:8080/",
          "height": 109
        },
        "outputId": "cabad1fb-f65e-4485-a07c-9e33c24fab9f"
      },
      "source": [
        "# You need to build two lists and iterate them in lockstep\n",
        ">>> twits = [\"Vivian Smith-Smythe-Smith\", \"Simon Zinc-Trumpet-Harris\", \"Nigel Incubator-Jones\", \"Gervaise Brook-Hamster\"]\n",
        ">>> points = [20, 130, 80, 100]\n",
        ">>> scores = { twits[i]:points[i] for i in range(4) }\n",
        ">>> print(scores)\n",
        "{'Vivian Smith-Smythe-Smith': 20, 'Simon Zinc-Trumpet-Harris': 130, 'Nigel Incubator-Jones': 80, 'Gervaise Brook-Hamster': 100}"
      ],
      "execution_count": 2,
      "outputs": [
        {
          "output_type": "stream",
          "text": [
            "{'Vivian Smith-Smythe-Smith': 20, 'Simon Zinc-Trumpet-Harris': 130, 'Nigel Incubator-Jones': 80, 'Gervaise Brook-Hamster': 100}\n"
          ],
          "name": "stdout"
        },
        {
          "output_type": "execute_result",
          "data": {
            "text/plain": [
              "{'Gervaise Brook-Hamster': 100,\n",
              " 'Nigel Incubator-Jones': 80,\n",
              " 'Simon Zinc-Trumpet-Harris': 130,\n",
              " 'Vivian Smith-Smythe-Smith': 20}"
            ]
          },
          "metadata": {
            "tags": []
          },
          "execution_count": 2
        }
      ]
    }
  ]
}