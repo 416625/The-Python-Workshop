{
  "nbformat": 4,
  "nbformat_minor": 0,
  "metadata": {
    "colab": {
      "name": "Activty04.ipynb",
      "version": "0.3.2",
      "provenance": []
    },
    "kernelspec": {
      "name": "python3",
      "display_name": "Python 3"
    }
  },
  "cells": [
    {
      "cell_type": "code",
      "metadata": {
        "id": "yo2qlEdSou5Q",
        "colab_type": "code",
        "colab": {
          "base_uri": "https://localhost:8080/",
          "height": 35
        },
        "outputId": "bf065c6e-899e-469f-802e-dbe641551145"
      },
      "source": [
        ">>> import re\n",
        ">>> names = [\"Xander Harris\", \"Jennifer Smith\", \"Timothy Jones\", \"Amy Alexandrescu\", \"Peter Price\", \"Weifung Xu\"]\n",
        ">>> winners = [name for name in names if re.search(\"[Xx]\", name)]\n",
        ">>> print(winners)"
      ],
      "execution_count": 2,
      "outputs": [
        {
          "output_type": "stream",
          "text": [
            "['Xander Harris', 'Amy Alexandrescu', 'Weifung Xu']\n"
          ],
          "name": "stdout"
        }
      ]
    }
  ]
}