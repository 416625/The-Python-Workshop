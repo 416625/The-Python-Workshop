{
  "nbformat": 4,
  "nbformat_minor": 0,
  "metadata": {
    "colab": {
      "name": "Exercise06.ipynb",
      "version": "0.3.2",
      "provenance": []
    },
    "kernelspec": {
      "name": "python3",
      "display_name": "Python 3"
    }
  },
  "cells": [
    {
      "cell_type": "code",
      "metadata": {
        "id": "WcJfARtYi8HV",
        "colab_type": "code",
        "colab": {}
      },
      "source": [
        ">>> class Interrogator:\n",
        "...   def __init__(self, questions):\n",
        "...     self.questions = questions\n",
        "...   def __iter__(self):\n",
        "...     return self.questions.__iter__()"
      ],
      "execution_count": 0,
      "outputs": []
    },
    {
      "cell_type": "code",
      "metadata": {
        "id": "2NFHGIUsjGOa",
        "colab_type": "code",
        "colab": {
          "base_uri": "https://localhost:8080/",
          "height": 72
        },
        "outputId": "5f976b40-357e-4cca-c039-5f879b2aa796"
      },
      "source": [
        ">>> questions = [\"What is your name?\", \"What is your quest?\", \"What is the average airspeed velocity of an unladen swallow?\"]\n",
        ">>> awkward_person = Interrogator(questions)\n",
        ">>> for question in awkward_person:\n",
        "...   print(question)\n",
        "\n"
      ],
      "execution_count": 2,
      "outputs": [
        {
          "output_type": "stream",
          "text": [
            "What is your name?\n",
            "What is your quest?\n",
            "What is the average airspeed velocity of an unladen swallow?\n"
          ],
          "name": "stdout"
        }
      ]
    }
  ]
}