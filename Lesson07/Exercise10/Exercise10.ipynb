{
  "nbformat": 4,
  "nbformat_minor": 0,
  "metadata": {
    "colab": {
      "name": "Exercise10.ipynb",
      "version": "0.3.2",
      "provenance": []
    },
    "kernelspec": {
      "name": "python3",
      "display_name": "Python 3"
    }
  },
  "cells": [
    {
      "cell_type": "code",
      "metadata": {
        "id": "ycLebpDnp1pX",
        "colab_type": "code",
        "colab": {}
      },
      "source": [
        ">>> import itertools"
      ],
      "execution_count": 0,
      "outputs": []
    },
    {
      "cell_type": "code",
      "metadata": {
        "id": "JzjdWAajp-k4",
        "colab_type": "code",
        "colab": {}
      },
      "source": [
        ">>> players = ['White', 'Black']\n",
        ">>> turns = itertools.cycle(players)\n"
      ],
      "execution_count": 0,
      "outputs": []
    },
    {
      "cell_type": "code",
      "metadata": {
        "id": "4a6_YMOBqBoa",
        "colab_type": "code",
        "colab": {
          "base_uri": "https://localhost:8080/",
          "height": 35
        },
        "outputId": "a108e2e4-30ff-4568-f526-453c349724b1"
      },
      "source": [
        ">>> countdown = itertools.count(10, -1)\n",
        ">>> print([turn for turn in itertools.takewhile(lambda x:next(countdown)>0, turns)])"
      ],
      "execution_count": 3,
      "outputs": [
        {
          "output_type": "stream",
          "text": [
            "['White', 'Black', 'White', 'Black', 'White', 'Black', 'White', 'Black', 'White', 'Black']\n"
          ],
          "name": "stdout"
        }
      ]
    }
  ]
}