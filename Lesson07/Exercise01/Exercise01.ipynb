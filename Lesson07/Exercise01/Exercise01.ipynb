{
  "nbformat": 4,
  "nbformat_minor": 0,
  "metadata": {
    "colab": {
      "name": "Exercise01.ipynb",
      "version": "0.3.2",
      "provenance": []
    },
    "kernelspec": {
      "name": "python3",
      "display_name": "Python 3"
    }
  },
  "cells": [
    {
      "cell_type": "code",
      "metadata": {
        "id": "8J3ANnymelvo",
        "colab_type": "code",
        "colab": {
          "base_uri": "https://localhost:8080/",
          "height": 35
        },
        "outputId": "fcff1d43-1bb1-4879-8a4a-d3f7f72f29a8"
      },
      "source": [
        "# This is a familiar Python for..in loop for iterating over an array\n",
        "cubes = []\n",
        "for x in [1,2,3,4,5]:\n",
        "    cubes.append(x**3)\n",
        "print(cubes)"
      ],
      "execution_count": 4,
      "outputs": [
        {
          "output_type": "stream",
          "text": [
            "[1, 8, 27, 64, 125]\n"
          ],
          "name": "stdout"
        }
      ]
    },
    {
      "cell_type": "code",
      "metadata": {
        "id": "ctsPWMvYenax",
        "colab_type": "code",
        "colab": {
          "base_uri": "https://localhost:8080/",
          "height": 35
        },
        "outputId": "ac8bce3b-7d2f-4a6b-ac91-5f0f37213869"
      },
      "source": [
        "# The list comprehension achieves the same thing\n",
        "cubes = [x**3 for x in [1,2,3,4,5]]\n",
        "print(cubes)\n",
        "\n"
      ],
      "execution_count": 5,
      "outputs": [
        {
          "output_type": "stream",
          "text": [
            "[1, 8, 27, 64, 125]\n"
          ],
          "name": "stdout"
        }
      ]
    },
    {
      "cell_type": "code",
      "metadata": {
        "id": "LMGZKyRwer2P",
        "colab_type": "code",
        "colab": {
          "base_uri": "https://localhost:8080/",
          "height": 35
        },
        "outputId": "6e9f4608-cafe-499e-b9ea-08f4c552f175"
      },
      "source": [
        "cubes = [x**3 for x in range(1,6)]\n",
        "print(cubes)"
      ],
      "execution_count": 6,
      "outputs": [
        {
          "output_type": "stream",
          "text": [
            "[1, 8, 27, 64, 125]\n"
          ],
          "name": "stdout"
        }
      ]
    },
    {
      "cell_type": "code",
      "metadata": {
        "id": "SPX5WXHee6F1",
        "colab_type": "code",
        "colab": {
          "base_uri": "https://localhost:8080/",
          "height": 35
        },
        "outputId": "d75e5dbd-60c9-4ca8-c052-0e6bb3f10213"
      },
      "source": [
        "names = [\"Graham Chapman\", \"John Cleese\", \"Terry Gilliam\", \"Eric Idle\", \"Terry Jones\"]\n",
        "print([name.upper() for name in names if name.startswith(\"T\")])\n",
        "\n"
      ],
      "execution_count": 7,
      "outputs": [
        {
          "output_type": "stream",
          "text": [
            "['TERRY GILLIAM', 'TERRY JONES']\n"
          ],
          "name": "stdout"
        }
      ]
    }
  ]
}