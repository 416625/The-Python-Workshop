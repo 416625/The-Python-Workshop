{
  "nbformat": 4,
  "nbformat_minor": 0,
  "metadata": {
    "colab": {
      "name": "Exercise11.ipynb",
      "version": "0.3.2",
      "provenance": []
    },
    "kernelspec": {
      "name": "python3",
      "display_name": "Python 3"
    }
  },
  "cells": [
    {
      "cell_type": "code",
      "metadata": {
        "id": "eiLob1wGnLF_",
        "colab_type": "code",
        "colab": {}
      },
      "source": [
        ">>> def primes_below(bound):\n",
        "...     candidates = list(range(2,bound))\n",
        "...     while(len(candidates) > 0):\n",
        "...         yield candidates[0]\n",
        "...         candidates = [c for c in candidates if c % candidates[0] != 0]"
      ],
      "execution_count": 0,
      "outputs": []
    },
    {
      "cell_type": "code",
      "metadata": {
        "id": "Ylc2KNzdnNIk",
        "colab_type": "code",
        "colab": {
          "base_uri": "https://localhost:8080/",
          "height": 35
        },
        "outputId": "c37c7e19-a2d2-4b89-ba6b-1abd35a489d9"
      },
      "source": [
        ">>> print([prime for prime in primes_below(100)])"
      ],
      "execution_count": 3,
      "outputs": [
        {
          "output_type": "stream",
          "text": [
            "[2, 3, 5, 7, 11, 13, 17, 19, 23, 29, 31, 37, 41, 43, 47, 53, 59, 61, 67, 71, 73, 79, 83, 89, 97]\n"
          ],
          "name": "stdout"
        }
      ]
    }
  ]
}