{
 "cells": [
  {
   "cell_type": "code",
   "execution_count": 1,
   "metadata": {},
   "outputs": [
    {
     "name": "stdout",
     "output_type": "stream",
     "text": [
      "[1, 8, 27, 64, 125]\n"
     ]
    }
   ],
   "source": [
    "# This is a familiar Python for..in loop for iterating over an array\n",
    "cubes = []\n",
    "for x in [1,2,3,4,5]:\n",
    "    cubes.append(x**3)\n",
    "print(cubes)"
   ]
  },
  {
   "cell_type": "code",
   "execution_count": 3,
   "metadata": {},
   "outputs": [
    {
     "name": "stdout",
     "output_type": "stream",
     "text": [
      "[1, 8, 27, 64, 125]\n"
     ]
    }
   ],
   "source": [
    "# The list comprehension achieves the same thing\n",
    "cubes = [x**3 for x in [1,2,3,4,5]]\n",
    "print(cubes)"
   ]
  },
  {
   "cell_type": "code",
   "execution_count": 4,
   "metadata": {},
   "outputs": [
    {
     "name": "stdout",
     "output_type": "stream",
     "text": [
      "[1, 8, 27, 64, 125]\n"
     ]
    }
   ],
   "source": [
    "cubes = [x**3 for x in range(1,6)]\n",
    "print(cubes)"
   ]
  },
  {
   "cell_type": "code",
   "execution_count": 7,
   "metadata": {},
   "outputs": [
    {
     "name": "stdout",
     "output_type": "stream",
     "text": [
      "['TERRY GILLIAM', 'TERRY JONES']\n"
     ]
    }
   ],
   "source": [
    "names = [\"Graham Chapman\", \"John Cleese\", \"Terry Gilliam\", \"Eric Idle\", \"Terry Jones\"]\n",
    "print([name.upper() for name in names if name.startswith(\"T\")])"
   ]
  },
  {
   "cell_type": "code",
   "execution_count": 8,
   "metadata": {},
   "outputs": [
    {
     "name": "stdout",
     "output_type": "stream",
     "text": [
      "['spam', 'spamspam', 'spamspamspam', 'eggs', 'eggseggs', 'eggseggseggs', 'chips', 'chipschips', 'chipschipschips']\n"
     ]
    }
   ],
   "source": [
    "print([x*y for x in ['spam', 'eggs', 'chips'] for y in [1,2,3]])"
   ]
  },
  {
   "cell_type": "code",
   "execution_count": 9,
   "metadata": {},
   "outputs": [
    {
     "name": "stdout",
     "output_type": "stream",
     "text": [
      "['spam', 'eggs', 'chips', 'spamspam', 'eggseggs', 'chipschips', 'spamspamspam', 'eggseggseggs', 'chipschipschips']\n"
     ]
    }
   ],
   "source": [
    "print([x*y for x in [1,2,3] for y in ['spam', 'eggs', 'chips']])"
   ]
  },
  {
   "cell_type": "code",
   "execution_count": 10,
   "metadata": {},
   "outputs": [
    {
     "name": "stdout",
     "output_type": "stream",
     "text": [
      "['King Arthur vs. Sir Lancelot', 'King Arthur vs. Sir Robin', 'King Arthur vs. Sir Galahad', 'Sir Lancelot vs. King Arthur', 'Sir Lancelot vs. Sir Robin', 'Sir Lancelot vs. Sir Galahad', 'Sir Robin vs. King Arthur', 'Sir Robin vs. Sir Lancelot', 'Sir Robin vs. Sir Galahad', 'Sir Galahad vs. King Arthur', 'Sir Galahad vs. Sir Lancelot', 'Sir Galahad vs. Sir Robin']\n"
     ]
    }
   ],
   "source": [
    ">>> names = [\"King Arthur\", \"Sir Lancelot\", \"Sir Robin\", \"Sir Galahad\"]\n",
    ">>> fixtures = [f\"{p1} vs. {p2}\" for p1 in names for p2 in names if p1 != p2]\n",
    ">>> print(fixtures)"
   ]
  },
  {
   "cell_type": "code",
   "execution_count": 12,
   "metadata": {},
   "outputs": [
    {
     "data": {
      "text/plain": [
       "[4, 3, 2, 1, 5, 4, 3, 2, 6, 5, 4, 3, 7, 6, 5, 4]"
      ]
     },
     "execution_count": 12,
     "metadata": {},
     "output_type": "execute_result"
    }
   ],
   "source": [
    ">>> [a + b for a in [0,1,2,3] for b in [4,3,2,1]]"
   ]
  },
  {
   "cell_type": "code",
   "execution_count": 13,
   "metadata": {},
   "outputs": [
    {
     "data": {
      "text/plain": [
       "{1, 2, 3, 4, 5, 6, 7}"
      ]
     },
     "execution_count": 13,
     "metadata": {},
     "output_type": "execute_result"
    }
   ],
   "source": [
    ">>> {a+b for a in [0,1,2,3] for b in [4,3,2,1]}"
   ]
  },
  {
   "cell_type": "code",
   "execution_count": 14,
   "metadata": {},
   "outputs": [
    {
     "data": {
      "text/plain": [
       "{'Eric': 4, 'Graham': 6, 'Terry': 5, 'John': 4}"
      ]
     },
     "execution_count": 14,
     "metadata": {},
     "output_type": "execute_result"
    }
   ],
   "source": [
    ">>> names = [\"Eric\", \"Graham\", \"Terry\", \"John\", \"Terry\"]\n",
    ">>> {k:len(k) for k in [\"Eric\", \"Graham\", \"Terry\", \"John\", \"Terry\"]}"
   ]
  },
  {
   "cell_type": "code",
   "execution_count": 16,
   "metadata": {},
   "outputs": [
    {
     "name": "stdout",
     "output_type": "stream",
     "text": [
      "{'Vivian Smith-Smythe-Smith': 100, 'Simon Zinc-Trumpet-Harris': 100, 'Nigel Incubator-Jones': 100, 'Gervaise Brook-Hamster': 100}\n"
     ]
    }
   ],
   "source": [
    "# This is the wrong way to associate to lists in a dictionary\n",
    ">>> scores = { twit:score for twit in [\"Vivian Smith-Smythe-Smith\", \"Simon Zinc-Trumpet-Harris\", \"Nigel Incubator-Jones\", \"Gervaise Brook-Hamster\"] for score in [20, 130, 80, 100] }\n",
    "print(scores)"
   ]
  },
  {
   "cell_type": "code",
   "execution_count": 17,
   "metadata": {},
   "outputs": [
    {
     "name": "stdout",
     "output_type": "stream",
     "text": [
      "{'Vivian Smith-Smythe-Smith': 20, 'Simon Zinc-Trumpet-Harris': 130, 'Nigel Incubator-Jones': 80, 'Gervaise Brook-Hamster': 100}\n"
     ]
    },
    {
     "data": {
      "text/plain": [
       "{'Vivian Smith-Smythe-Smith': 20,\n",
       " 'Simon Zinc-Trumpet-Harris': 130,\n",
       " 'Nigel Incubator-Jones': 80,\n",
       " 'Gervaise Brook-Hamster': 100}"
      ]
     },
     "execution_count": 17,
     "metadata": {},
     "output_type": "execute_result"
    }
   ],
   "source": [
    "# You need to build two lists and iterate them in lockstep\n",
    ">>> twits = [\"Vivian Smith-Smythe-Smith\", \"Simon Zinc-Trumpet-Harris\", \"Nigel Incubator-Jones\", \"Gervaise Brook-Hamster\"]\n",
    ">>> points = [20, 130, 80, 100]\n",
    ">>> scores = { twits[i]:points[i] for i in range(4) }\n",
    ">>> print(scores)\n",
    "{'Vivian Smith-Smythe-Smith': 20, 'Simon Zinc-Trumpet-Harris': 130, 'Nigel Incubator-Jones': 80, 'Gervaise Brook-Hamster': 100}"
   ]
  },
  {
   "cell_type": "code",
   "execution_count": 18,
   "metadata": {},
   "outputs": [
    {
     "ename": "KeyError",
     "evalue": "'middle_name'",
     "output_type": "error",
     "traceback": [
      "\u001b[0;31m---------------------------------------------------------------------------\u001b[0m",
      "\u001b[0;31mKeyError\u001b[0m                                  Traceback (most recent call last)",
      "\u001b[0;32m<ipython-input-18-63d140c09c07>\u001b[0m in \u001b[0;36m<module>\u001b[0;34m\u001b[0m\n\u001b[1;32m      1\u001b[0m \u001b[0mjohn\u001b[0m \u001b[0;34m=\u001b[0m \u001b[0;34m{\u001b[0m \u001b[0;34m'first_name'\u001b[0m\u001b[0;34m:\u001b[0m \u001b[0;34m'John'\u001b[0m\u001b[0;34m,\u001b[0m \u001b[0;34m'surname'\u001b[0m\u001b[0;34m:\u001b[0m \u001b[0;34m'Cleese'\u001b[0m \u001b[0;34m}\u001b[0m\u001b[0;34m\u001b[0m\u001b[0;34m\u001b[0m\u001b[0m\n\u001b[0;32m----> 2\u001b[0;31m \u001b[0mjohn\u001b[0m\u001b[0;34m[\u001b[0m\u001b[0;34m'middle_name'\u001b[0m\u001b[0;34m]\u001b[0m\u001b[0;34m\u001b[0m\u001b[0;34m\u001b[0m\u001b[0m\n\u001b[0m",
      "\u001b[0;31mKeyError\u001b[0m: 'middle_name'"
     ]
    }
   ],
   "source": [
    ">>> john = { 'first_name': 'John', 'surname': 'Cleese' }\n",
    ">>> john['middle_name']\n"
   ]
  },
  {
   "cell_type": "code",
   "execution_count": 20,
   "metadata": {},
   "outputs": [
    {
     "data": {
      "text/plain": [
       "''"
      ]
     },
     "execution_count": 20,
     "metadata": {},
     "output_type": "execute_result"
    }
   ],
   "source": [
    ">>> from collections import defaultdict\n",
    ">>> safe_john = defaultdict(str, john)\n",
    ">>> safe_john['middle_name']"
   ]
  },
  {
   "cell_type": "code",
   "execution_count": 21,
   "metadata": {},
   "outputs": [
    {
     "data": {
      "text/plain": [
       "'Ni!'"
      ]
     },
     "execution_count": 21,
     "metadata": {},
     "output_type": "execute_result"
    }
   ],
   "source": [
    ">>> knight_replies = defaultdict(lambda: 'Ni!', {})\n",
    ">>> knight_replies['Shrubbery']"
   ]
  },
  {
   "cell_type": "code",
   "execution_count": 22,
   "metadata": {},
   "outputs": [],
   "source": [
    ">>> class Interrogator:\n",
    "...   def __init__(self, questions):\n",
    "...     self.questions = questions\n",
    "...   def __iter__(self):\n",
    "...     return self.questions.__iter__()"
   ]
  },
  {
   "cell_type": "code",
   "execution_count": 23,
   "metadata": {},
   "outputs": [
    {
     "name": "stdout",
     "output_type": "stream",
     "text": [
      "What is your name?\n",
      "What is your quest?\n",
      "What is the average airspeed velocity of an unladen swallow?\n"
     ]
    }
   ],
   "source": [
    ">>> questions = [\"What is your name?\", \"What is your quest?\", \"What is the average airspeed velocity of an unladen swallow?\"]\n",
    ">>> awkward_person = Interrogator(questions)\n",
    ">>> for question in awkward_person:\n",
    "...   print(question)\n"
   ]
  },
  {
   "cell_type": "code",
   "execution_count": 24,
   "metadata": {},
   "outputs": [],
   "source": [
    ">>> class PrimesBelow:\n",
    "...     def __init__(self, bound):\n",
    "...         self.candidate_numbers = list(range(2,bound))\n",
    "...     def __iter__(self):\n",
    "...         return self\n",
    "...     def __next__(self):\n",
    "...         if len(self.candidate_numbers) == 0:\n",
    "...             raise StopIteration\n",
    "...         next_prime = self.candidate_numbers[0]\n",
    "...         self.candidate_numbers = [x for x in self.candidate_numbers if x % next_prime != 0]\n",
    "...         return next_prime"
   ]
  },
  {
   "cell_type": "code",
   "execution_count": 25,
   "metadata": {},
   "outputs": [
    {
     "name": "stdout",
     "output_type": "stream",
     "text": [
      "[2, 3, 5, 7, 11, 13, 17, 19, 23, 29, 31, 37, 41, 43, 47, 53, 59, 61, 67, 71, 73, 79, 83, 89, 97]\n"
     ]
    }
   ],
   "source": [
    ">>> primes_to_a_hundred = [prime for prime in PrimesBelow(100)]\n",
    ">>> print(primes_to_a_hundred)\n"
   ]
  },
  {
   "cell_type": "code",
   "execution_count": 26,
   "metadata": {},
   "outputs": [
    {
     "ename": "StopIteration",
     "evalue": "",
     "output_type": "error",
     "traceback": [
      "\u001b[0;31m---------------------------------------------------------------------------\u001b[0m",
      "\u001b[0;31mStopIteration\u001b[0m                             Traceback (most recent call last)",
      "\u001b[0;32m<ipython-input-26-c81778c59ded>\u001b[0m in \u001b[0;36m<module>\u001b[0;34m\u001b[0m\n\u001b[1;32m      4\u001b[0m \u001b[0mnext\u001b[0m\u001b[0;34m(\u001b[0m\u001b[0mprimes_under_five\u001b[0m\u001b[0;34m)\u001b[0m\u001b[0;34m\u001b[0m\u001b[0;34m\u001b[0m\u001b[0m\n\u001b[1;32m      5\u001b[0m \u001b[0;36m3\u001b[0m\u001b[0;34m\u001b[0m\u001b[0;34m\u001b[0m\u001b[0m\n\u001b[0;32m----> 6\u001b[0;31m \u001b[0mnext\u001b[0m\u001b[0;34m(\u001b[0m\u001b[0mprimes_under_five\u001b[0m\u001b[0;34m)\u001b[0m\u001b[0;34m\u001b[0m\u001b[0;34m\u001b[0m\u001b[0m\n\u001b[0m",
      "\u001b[0;32m<ipython-input-24-3789c7bbbd03>\u001b[0m in \u001b[0;36m__next__\u001b[0;34m(self)\u001b[0m\n\u001b[1;32m      6\u001b[0m     \u001b[0;32mdef\u001b[0m \u001b[0m__next__\u001b[0m\u001b[0;34m(\u001b[0m\u001b[0mself\u001b[0m\u001b[0;34m)\u001b[0m\u001b[0;34m:\u001b[0m\u001b[0;34m\u001b[0m\u001b[0;34m\u001b[0m\u001b[0m\n\u001b[1;32m      7\u001b[0m         \u001b[0;32mif\u001b[0m \u001b[0mlen\u001b[0m\u001b[0;34m(\u001b[0m\u001b[0mself\u001b[0m\u001b[0;34m.\u001b[0m\u001b[0mcandidate_numbers\u001b[0m\u001b[0;34m)\u001b[0m \u001b[0;34m==\u001b[0m \u001b[0;36m0\u001b[0m\u001b[0;34m:\u001b[0m\u001b[0;34m\u001b[0m\u001b[0;34m\u001b[0m\u001b[0m\n\u001b[0;32m----> 8\u001b[0;31m             \u001b[0;32mraise\u001b[0m \u001b[0mStopIteration\u001b[0m\u001b[0;34m\u001b[0m\u001b[0;34m\u001b[0m\u001b[0m\n\u001b[0m\u001b[1;32m      9\u001b[0m         \u001b[0mnext_prime\u001b[0m \u001b[0;34m=\u001b[0m \u001b[0mself\u001b[0m\u001b[0;34m.\u001b[0m\u001b[0mcandidate_numbers\u001b[0m\u001b[0;34m[\u001b[0m\u001b[0;36m0\u001b[0m\u001b[0;34m]\u001b[0m\u001b[0;34m\u001b[0m\u001b[0;34m\u001b[0m\u001b[0m\n\u001b[1;32m     10\u001b[0m         \u001b[0mself\u001b[0m\u001b[0;34m.\u001b[0m\u001b[0mcandidate_numbers\u001b[0m \u001b[0;34m=\u001b[0m \u001b[0;34m[\u001b[0m\u001b[0mx\u001b[0m \u001b[0;32mfor\u001b[0m \u001b[0mx\u001b[0m \u001b[0;32min\u001b[0m \u001b[0mself\u001b[0m\u001b[0;34m.\u001b[0m\u001b[0mcandidate_numbers\u001b[0m \u001b[0;32mif\u001b[0m \u001b[0mx\u001b[0m \u001b[0;34m%\u001b[0m \u001b[0mnext_prime\u001b[0m \u001b[0;34m!=\u001b[0m \u001b[0;36m0\u001b[0m\u001b[0;34m]\u001b[0m\u001b[0;34m\u001b[0m\u001b[0;34m\u001b[0m\u001b[0m\n",
      "\u001b[0;31mStopIteration\u001b[0m: "
     ]
    }
   ],
   "source": [
    ">>> primes_under_five = iter(PrimesBelow(5))\n",
    ">>> next(primes_under_five)\n",
    "2\n",
    ">>> next(primes_under_five)\n",
    "3\n",
    ">>> next(primes_under_five)\n"
   ]
  },
  {
   "cell_type": "code",
   "execution_count": 27,
   "metadata": {},
   "outputs": [],
   "source": [
    ">>> class Primes:\n",
    "...     def __init__(self):\n",
    "...         self.current = 2\n",
    "...     def __iter__(self):\n",
    "...         return self\n",
    "...     def __next__(self):\n",
    "...         while True:\n",
    "...             current = self.current\n",
    "...             square_root = int(current ** 0.5)\n",
    "...             is_prime = True\n",
    "...             if square_root >= 2:\n",
    "...                 for i in range(2, square_root + 1):\n",
    "...                     if current % i == 0:\n",
    "...                         is_prime = False\n",
    "...                         break\n",
    "...             self.current += 1\n",
    "...             if is_prime:\n",
    "...                 return current"
   ]
  },
  {
   "cell_type": "code",
   "execution_count": 28,
   "metadata": {},
   "outputs": [
    {
     "ename": "KeyboardInterrupt",
     "evalue": "",
     "output_type": "error",
     "traceback": [
      "\u001b[0;31m---------------------------------------------------------------------------\u001b[0m",
      "\u001b[0;31mKeyboardInterrupt\u001b[0m                         Traceback (most recent call last)",
      "\u001b[0;32m<ipython-input-28-afd3c871a33d>\u001b[0m in \u001b[0;36m<module>\u001b[0;34m\u001b[0m\n\u001b[0;32m----> 1\u001b[0;31m \u001b[0;34m[\u001b[0m\u001b[0mp\u001b[0m \u001b[0;32mfor\u001b[0m \u001b[0mp\u001b[0m \u001b[0;32min\u001b[0m \u001b[0mPrimes\u001b[0m\u001b[0;34m(\u001b[0m\u001b[0;34m)\u001b[0m \u001b[0;32mif\u001b[0m \u001b[0mp\u001b[0m \u001b[0;34m<\u001b[0m \u001b[0;36m100\u001b[0m\u001b[0;34m]\u001b[0m\u001b[0;34m\u001b[0m\u001b[0;34m\u001b[0m\u001b[0m\n\u001b[0m",
      "\u001b[0;32m<ipython-input-28-afd3c871a33d>\u001b[0m in \u001b[0;36m<listcomp>\u001b[0;34m(.0)\u001b[0m\n\u001b[0;32m----> 1\u001b[0;31m \u001b[0;34m[\u001b[0m\u001b[0mp\u001b[0m \u001b[0;32mfor\u001b[0m \u001b[0mp\u001b[0m \u001b[0;32min\u001b[0m \u001b[0mPrimes\u001b[0m\u001b[0;34m(\u001b[0m\u001b[0;34m)\u001b[0m \u001b[0;32mif\u001b[0m \u001b[0mp\u001b[0m \u001b[0;34m<\u001b[0m \u001b[0;36m100\u001b[0m\u001b[0;34m]\u001b[0m\u001b[0;34m\u001b[0m\u001b[0;34m\u001b[0m\u001b[0m\n\u001b[0m",
      "\u001b[0;32m<ipython-input-27-c1ad65bf0095>\u001b[0m in \u001b[0;36m__next__\u001b[0;34m(self)\u001b[0m\n\u001b[1;32m     10\u001b[0m             \u001b[0mis_prime\u001b[0m \u001b[0;34m=\u001b[0m \u001b[0;32mTrue\u001b[0m\u001b[0;34m\u001b[0m\u001b[0;34m\u001b[0m\u001b[0m\n\u001b[1;32m     11\u001b[0m             \u001b[0;32mif\u001b[0m \u001b[0msquare_root\u001b[0m \u001b[0;34m>=\u001b[0m \u001b[0;36m2\u001b[0m\u001b[0;34m:\u001b[0m\u001b[0;34m\u001b[0m\u001b[0;34m\u001b[0m\u001b[0m\n\u001b[0;32m---> 12\u001b[0;31m                 \u001b[0;32mfor\u001b[0m \u001b[0mi\u001b[0m \u001b[0;32min\u001b[0m \u001b[0mrange\u001b[0m\u001b[0;34m(\u001b[0m\u001b[0;36m2\u001b[0m\u001b[0;34m,\u001b[0m \u001b[0msquare_root\u001b[0m \u001b[0;34m+\u001b[0m \u001b[0;36m1\u001b[0m\u001b[0;34m)\u001b[0m\u001b[0;34m:\u001b[0m\u001b[0;34m\u001b[0m\u001b[0;34m\u001b[0m\u001b[0m\n\u001b[0m\u001b[1;32m     13\u001b[0m                     \u001b[0;32mif\u001b[0m \u001b[0mcurrent\u001b[0m \u001b[0;34m%\u001b[0m \u001b[0mi\u001b[0m \u001b[0;34m==\u001b[0m \u001b[0;36m0\u001b[0m\u001b[0;34m:\u001b[0m\u001b[0;34m\u001b[0m\u001b[0;34m\u001b[0m\u001b[0m\n\u001b[1;32m     14\u001b[0m                         \u001b[0mis_prime\u001b[0m \u001b[0;34m=\u001b[0m \u001b[0;32mFalse\u001b[0m\u001b[0;34m\u001b[0m\u001b[0;34m\u001b[0m\u001b[0m\n",
      "\u001b[0;31mKeyboardInterrupt\u001b[0m: "
     ]
    }
   ],
   "source": [
    ">>> [p for p in Primes() if p < 100]"
   ]
  },
  {
   "cell_type": "code",
   "execution_count": 29,
   "metadata": {},
   "outputs": [
    {
     "name": "stdout",
     "output_type": "stream",
     "text": [
      "[2, 3, 5, 7, 11, 13, 17, 19, 23, 29, 31, 37, 41, 43, 47, 53, 59, 61, 67, 71, 73, 79, 83, 89, 97]\n"
     ]
    }
   ],
   "source": [
    ">>> import itertools\n",
    ">>> print([p for p in itertools.takewhile(lambda x: x<100, Primes())])"
   ]
  },
  {
   "cell_type": "code",
   "execution_count": 30,
   "metadata": {},
   "outputs": [],
   "source": [
    ">>> players = ['White', 'Black']\n",
    ">>> turns = itertools.cycle(players)"
   ]
  },
  {
   "cell_type": "code",
   "execution_count": 31,
   "metadata": {},
   "outputs": [
    {
     "name": "stdout",
     "output_type": "stream",
     "text": [
      "['White', 'Black', 'White', 'Black', 'White', 'Black', 'White', 'Black', 'White', 'Black']\n"
     ]
    }
   ],
   "source": [
    ">>> countdown = itertools.count(10, -1)\n",
    ">>> print([turn for turn in itertools.takewhile(lambda x:next(countdown)>0, turns)])"
   ]
  },
  {
   "cell_type": "code",
   "execution_count": 32,
   "metadata": {},
   "outputs": [],
   "source": [
    ">>> def primes_below(bound):\n",
    "...     candidates = list(range(2,bound))\n",
    "...     while(len(candidates) > 0):\n",
    "...         yield candidates[0]\n",
    "...         candidates = [c for c in candidates if c % candidates[0] != 0]"
   ]
  },
  {
   "cell_type": "code",
   "execution_count": 33,
   "metadata": {},
   "outputs": [
    {
     "data": {
      "text/plain": [
       "[2,\n",
       " 3,\n",
       " 5,\n",
       " 7,\n",
       " 11,\n",
       " 13,\n",
       " 17,\n",
       " 19,\n",
       " 23,\n",
       " 29,\n",
       " 31,\n",
       " 37,\n",
       " 41,\n",
       " 43,\n",
       " 47,\n",
       " 53,\n",
       " 59,\n",
       " 61,\n",
       " 67,\n",
       " 71,\n",
       " 73,\n",
       " 79,\n",
       " 83,\n",
       " 89,\n",
       " 97]"
      ]
     },
     "execution_count": 33,
     "metadata": {},
     "output_type": "execute_result"
    }
   ],
   "source": [
    ">>> [prime for prime in primes_below(100)]"
   ]
  },
  {
   "cell_type": "code",
   "execution_count": 34,
   "metadata": {},
   "outputs": [
    {
     "name": "stdout",
     "output_type": "stream",
     "text": [
      "[3.144, 3.134, 3.0986666666666665, 3.112, 3.116, 3.1146666666666665, 3.104, 3.1095, 3.109777777777778]\n",
      "[0.002407346410207012, -0.007592653589793219, -0.04292598692312666, -0.029592653589793017, -0.025592653589793013, -0.026925986923126644, -0.037592653589793024, -0.03209265358979296, -0.03181487581201514]\n"
     ]
    }
   ],
   "source": [
    ">>> import math\n",
    ">>> import random\n",
    ">>> \n",
    ">>> def approximate_pi():\n",
    "...     total_points = 0\n",
    "...     within_circle = 0\n",
    "...     for i in range (10001):\n",
    "...         x = random.random()\n",
    "...         y = random.random()\n",
    "...         total_points += 1\n",
    "...         distance = math.sqrt(x**2+y**2)\n",
    "...         if distance < 1:\n",
    "...             within_circle += 1\n",
    "...         if total_points % 1000 == 0:\n",
    "...             pi_estimate = 4 * within_circle / total_points\n",
    "...             if total_points == 10000:\n",
    "...                 return pi_estimate\n",
    "...             else:\n",
    "...                 yield pi_estimate\n",
    "... \n",
    ">>> estimates = [estimate for estimate in approximate_pi()]\n",
    ">>> errors = [estimate - math.pi for estimate in estimates]\n",
    ">>> \n",
    ">>> print(estimates)\n",
    ">>> print(errors)"
   ]
  },
  {
   "cell_type": "code",
   "execution_count": null,
   "metadata": {},
   "outputs": [],
   "source": []
  }
 ],
 "metadata": {
  "kernelspec": {
   "display_name": "Python 3",
   "language": "python",
   "name": "python3"
  },
  "language_info": {
   "codemirror_mode": {
    "name": "ipython",
    "version": 3
   },
   "file_extension": ".py",
   "mimetype": "text/x-python",
   "name": "python",
   "nbconvert_exporter": "python",
   "pygments_lexer": "ipython3",
   "version": "3.7.1"
  }
 },
 "nbformat": 4,
 "nbformat_minor": 2
}
