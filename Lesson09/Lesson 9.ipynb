{
 "cells": [
  {
   "cell_type": "code",
   "execution_count": null,
   "metadata": {},
   "outputs": [],
   "source": [
    ">>> fizzbuzz = lambda x: \"Fizzbuzz\" if x%3 == 0 and x%5 == 0 else \"Fizz\" if x%3 == 0 else \"Buzz\" if x%5 == 0 else str(x)\n",
    ">>> print([fizzbuzz(i) for i in range(1,101)])"
   ]
  },
  {
   "cell_type": "code",
   "execution_count": null,
   "metadata": {},
   "outputs": [],
   "source": [
    ">>> import execnet\n",
    ">>> def square(channel):\n",
    "...     while not channel.isclosed():\n",
    "...         number = channel.receive()\n",
    "...         number_squared = number**2\n",
    "...         channel.send(number_squared)\n",
    ">>> gateway = execnet.makegateway()\n",
    ">>> channel = gateway.remote_exec(square)\n",
    ">>> for i in range(10):\n",
    "...     channel.send(i)\n",
    "...     i_squared = channel.receive()\n",
    "...     print(f\"{i} squared is {i_squared}\")\n",
    ">>> gateway.exit()"
   ]
  },
  {
   "cell_type": "code",
   "execution_count": null,
   "metadata": {},
   "outputs": [],
   "source": [
    ">>> import multiprocessing\n",
    ">>> def square_mp(in_queue, out_queue):\n",
    "...     while(True):\n",
    "...         n = in_queue.get()\n",
    "...         n_squared = n**2\n",
    "...         out_queue.put(n_squared)\n",
    "\n",
    ">>> if __name__ == '__main__':\n",
    "...     in_queue = multiprocessing.Queue()\n",
    "...     out_queue = multiprocessing.Queue()\n",
    "...     process = multiprocessing.Process(target=square_mp, args=(in_queue, out_queue))\n",
    "...     process.start()\n",
    "...     for i in range(10):\n",
    "...         in_queue.put(i)\n",
    "...         i_squared = out_queue.get()\n",
    "...         print(f\"{i} squared is {i_squared}\")\n",
    "...     process.terminate()\n"
   ]
  },
  {
   "cell_type": "code",
   "execution_count": null,
   "metadata": {},
   "outputs": [],
   "source": [
    ">>> import threading\n",
    ">>> import queue\n",
    ">>> in_queue = queue.Queue()\n",
    ">>> out_queue = queue.Queue()\n",
    ">>> def square_threading():\n",
    "...     while True:\n",
    "...         n = in_queue.get()\n",
    "...         if n == 'STOP':\n",
    "...             return\n",
    "...         n_squared = n**2\n",
    "...         out_queue.put(n_squared)\n",
    "\n",
    ">>> thread = threading.Thread(target=square_threading)\n",
    ">>> thread.start()\n",
    ">>> for i in range(10):\n",
    "...     in_queue.put(i)\n",
    "...     i_squared = out_queue.get()\n",
    "...     print(f\"{i} squared is {i_squared}\")\n",
    ">>> in_queue.put('STOP')\n",
    ">>> thread.join()"
   ]
  },
  {
   "cell_type": "code",
   "execution_count": null,
   "metadata": {},
   "outputs": [],
   "source": [
    "%%writefile exercise8.py\n",
    ">>> import argparse\n",
    ">>> parser = argparse.ArgumentParser(description=\"Interpret a Boolean flag.\")\n",
    ">>> parser.add_argument('--flag', dest='flag', action='store_true', help='Set the flag value to True.')\n",
    ">>> arguments = parser.parse_args()\n",
    ">>> print(f\"The flag's value is {arguments.flag}\")"
   ]
  },
  {
   "cell_type": "code",
   "execution_count": null,
   "metadata": {},
   "outputs": [],
   "source": [
    "%%writefile exercise9.py\n",
    ">>> import argparse\n",
    ">>> parser = argparse.ArgumentParser(description=\"Interpret positional arguments.\")\n",
    ">>> parser.add_argument('source', action='store', help='The source of an operation.')\n",
    ">>> parser.add_argument('dest', action='store', help='The destination of the operation.')\n",
    ">>> arguments = parser.parse_args()\n",
    ">>> print(f\"Picasso will cycle from {arguments.source} to {arguments.dest}\")"
   ]
  },
  {
   "cell_type": "code",
   "execution_count": null,
   "metadata": {},
   "outputs": [],
   "source": [
    "%%writefile activity2.py\n",
    ">>> import argparse\n",
    ">>> parser = argparse.ArgumentParser(description=\"Play the game of FizzBuzz.\")\n",
    ">>> parser.add_argument(\"fizz\", action=\"store\", help=\"Number to replace multiples of by 'Fizz'.\", type=int)\n",
    ">>> parser.add_argument(\"buzz\", action=\"store\", help=\"Number to replace multiples of by 'Buzz'.\", type=int)\n",
    ">>> arguments = parser.parse_args()\n",
    ">>> fizz = arguments.fizz\n",
    ">>> buzz = arguments.buzz\n",
    ">>> fizzbuzz = lambda x: \"Fizzbuzz\" if x%fizz == 0 and x%buzz == 0 else \"Fizz\" if x%fizz == 0 else \"Buzz\" if x%buzz == 0 else str(x)\n",
    ">>> print([fizzbuzz(i) for i in range(1,101)])"
   ]
  },
  {
   "cell_type": "code",
   "execution_count": null,
   "metadata": {},
   "outputs": [],
   "source": [
    ">>> import timeit\n",
    ">>> class PrimesBelow:\n",
    "...     def __init__(self, bound):\n",
    "...         self.candidate_numbers = list(range(2,bound))\n",
    "...     def __iter__(self):\n",
    "...         return self\n",
    "...     def __next__(self):\n",
    "...         if len(self.candidate_numbers) == 0:\n",
    "...             raise StopIteration\n",
    "...         next_prime = self.candidate_numbers[0]\n",
    "...         self.candidate_numbers = [x for x in self.candidate_numbers if x % next_prime != 0]\n",
    "...         return next_prime\n",
    ">>> print(timeit.timeit('list(PrimesBelow(1000))', setup='from __main__ import PrimesBelow', number=10000))"
   ]
  },
  {
   "cell_type": "code",
   "execution_count": null,
   "metadata": {},
   "outputs": [],
   "source": [
    "%%writefile sieve_module.pyx\n",
    ">>> class PrimesBelow:\n",
    "...     def __init__(self, bound):\n",
    "...         self.candidate_numbers = list(range(2,bound))\n",
    "...     def __iter__(self):\n",
    "...         return self\n",
    "...     def __next__(self):\n",
    "...         if len(self.candidate_numbers) == 0:\n",
    "...             raise StopIteration\n",
    "...         next_prime = self.candidate_numbers[0]\n",
    "...         self.candidate_numbers = [x for x in self.candidate_numbers if x % next_prime != 0]\n",
    "...         return next_prime"
   ]
  },
  {
   "cell_type": "code",
   "execution_count": null,
   "metadata": {},
   "outputs": [],
   "source": [
    "%%writefile setup.py\n",
    ">>> from distutils.core import setup\n",
    ">>> from Cython.Build import cythonize\n",
    ">>> setup(\n",
    "...     ext_modules = cythonize(\"sieve_module.pyx\")\n",
    "... )"
   ]
  },
  {
   "cell_type": "code",
   "execution_count": null,
   "metadata": {},
   "outputs": [],
   "source": [
    "import timeit\n",
    "\n",
    "print(timeit.timeit('list(PrimesBelow(1000))', setup='from sieve_module import PrimesBelow', number=10000))"
   ]
  },
  {
   "cell_type": "code",
   "execution_count": null,
   "metadata": {},
   "outputs": [],
   "source": [
    ">>> class Primes:\n",
    "...     def __init__(self):\n",
    "...         self.current = 2\n",
    "...     def __iter__(self):\n",
    "...         return self\n",
    "...     def __next__(self):\n",
    "...         while True:\n",
    "...             current = self.current\n",
    "...             square_root = int(current ** 0.5)\n",
    "...             is_prime = True\n",
    "...             if square_root >= 2:\n",
    "...                 for i in range(2, square_root + 1):\n",
    "...                     if current % i == 0:\n",
    "...                         is_prime = False\n",
    "...                         break\n",
    "...             self.current += 1\n",
    "...             if is_prime:\n",
    "...                 return current"
   ]
  },
  {
   "cell_type": "code",
   "execution_count": null,
   "metadata": {},
   "outputs": [],
   "source": [
    ">>> import cProfile\n",
    ">>> import itertools\n",
    ">>> cProfile.run('[p for p in itertools.takewhile(lambda x: x<10000, Primes())]')\n"
   ]
  },
  {
   "cell_type": "code",
   "execution_count": null,
   "metadata": {},
   "outputs": [],
   "source": [
    ">>> class Primes2:\n",
    "...     def __init__(self):\n",
    "...         self.known_primes=[]\n",
    "...         self.current=2\n",
    "...     def __iter__(self):\n",
    "...         return self\n",
    "...     def __next__(self):\n",
    "...         while True:\n",
    "...             current = self.current\n",
    "...             prime_factors = [p for p in self.known_primes if current % p == 0]\n",
    "...             self.current += 1\n",
    "...             if len(prime_factors) == 0:\n",
    "...                 self.known_primes.append(current)\n",
    "...                 return current\n",
    ">>> cProfile.run('[p for p in itertools.takewhile(lambda x: x<10000, Primes2())]')\n"
   ]
  },
  {
   "cell_type": "code",
   "execution_count": null,
   "metadata": {},
   "outputs": [],
   "source": [
    ">>> class Primes3:\n",
    "...     def __init__(self):\n",
    "...         self.known_primes=[]\n",
    "...         self.current=2\n",
    "...     def __iter__(self):\n",
    "...         return self\n",
    "...     def __next__(self):\n",
    "...         while True:\n",
    "...             current = self.current\n",
    "...             sqrt_current = int(current**0.5)\n",
    "...             potential_factors = itertools.takewhile(lambda x: x < sqrt_current, self.known_primes)\n",
    "...             prime_factors = [p for p in potential_factors if current % p == 0]\n",
    "...             self.current += 1\n",
    "...             if len(prime_factors) == 0:\n",
    "...                 self.known_primes.append(current)\n",
    "...                 return current\n",
    "\n",
    ">>> cProfile.run('[p for p in itertools.takewhile(lambda x: x<10000, Primes3())]')"
   ]
  },
  {
   "cell_type": "code",
   "execution_count": null,
   "metadata": {},
   "outputs": [],
   "source": [
    ">>> class Primes4:\n",
    "...     def __init__(self):\n",
    "...         self.known_primes=[]\n",
    "...         self.current=2\n",
    "...     def __iter__(self):\n",
    "...         return self\n",
    "...     def __next__(self):\n",
    "...         while True:\n",
    "...             current = self.current\n",
    "...             sqrt_current = int(current**0.5)\n",
    "...             potential_factors = itertools.takewhile(lambda x: x < sqrt_current, self.known_primes)\n",
    "...             is_prime = True\n",
    "...             for p in potential_factors:\n",
    "...                 if current % p == 0:\n",
    "...                     is_prime = False\n",
    "...                     break\n",
    "...             self.current += 1\n",
    "...             if is_prime == True:\n",
    "...                 self.known_primes.append(current)\n",
    "...                 return current\n",
    "\n",
    ">>> cProfile.run('[p for p in itertools.takewhile(lambda x: x<10000, Primes4())]')"
   ]
  },
  {
   "cell_type": "code",
   "execution_count": null,
   "metadata": {},
   "outputs": [],
   "source": [
    ">>> cProfile.run('[p for p in itertools.takewhile(lambda x: x<10000000, Primes())]')\n",
    ">>> cProfile.run('[p for p in itertools.takewhile(lambda x: x<10000000, Primes4())]')\n"
   ]
  }
 ],
 "metadata": {
  "kernelspec": {
   "display_name": "Python 3",
   "language": "python",
   "name": "python3"
  },
  "language_info": {
   "codemirror_mode": {
    "name": "ipython",
    "version": 3
   },
   "file_extension": ".py",
   "mimetype": "text/x-python",
   "name": "python",
   "nbconvert_exporter": "python",
   "pygments_lexer": "ipython3",
   "version": "3.7.1"
  }
 },
 "nbformat": 4,
 "nbformat_minor": 2
}
